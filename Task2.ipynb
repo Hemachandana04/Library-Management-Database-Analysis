{
  "nbformat": 4,
  "nbformat_minor": 0,
  "metadata": {
    "colab": {
      "provenance": []
    },
    "kernelspec": {
      "name": "python3",
      "display_name": "Python 3"
    },
    "language_info": {
      "name": "python"
    }
  },
  "cells": [
    {
      "cell_type": "code",
      "execution_count": 1,
      "metadata": {
        "id": "wC_Ha9Emxgin"
      },
      "outputs": [],
      "source": [
        "import sqlite3\n",
        "conn=sqlite3.connect('test.db')"
      ]
    },
    {
      "cell_type": "code",
      "source": [
        "conn.execute('''\n",
        "CREATE TABLE PUBLISHER (\n",
        "    Name VARCHAR(255) PRIMARY KEY,\n",
        "    Address VARCHAR(255),\n",
        "    Phone VARCHAR(20)\n",
        ");'''\n",
        "\n",
        ")\n",
        "conn.commit()\n",
        "print('publisher');"
      ],
      "metadata": {
        "colab": {
          "base_uri": "https://localhost:8080/"
        },
        "id": "quf-dnzcyLgk",
        "outputId": "06e12353-15d0-448f-8dbe-b7bce6d8f6c2"
      },
      "execution_count": 2,
      "outputs": [
        {
          "output_type": "stream",
          "name": "stdout",
          "text": [
            "publisher\n"
          ]
        }
      ]
    },
    {
      "cell_type": "code",
      "source": [
        "conn.execute('''\n",
        "CREATE TABLE BOOK (\n",
        "    Book_id INT PRIMARY KEY,\n",
        "    Title VARCHAR(255) NOT NULL,\n",
        "    Publisher_Name VARCHAR(255),\n",
        "    Pub_Year INT,\n",
        "    FOREIGN KEY (Publisher_Name) REFERENCES PUBLISHER(Name)\n",
        ")'''\n",
        "\n",
        ")\n",
        "conn.commit()\n",
        "print('book');"
      ],
      "metadata": {
        "colab": {
          "base_uri": "https://localhost:8080/"
        },
        "id": "FjiDQt4tycBL",
        "outputId": "cba8acbb-5edc-4062-b7bc-67175e9ac20b"
      },
      "execution_count": 3,
      "outputs": [
        {
          "output_type": "stream",
          "name": "stdout",
          "text": [
            "book\n"
          ]
        }
      ]
    },
    {
      "cell_type": "code",
      "source": [
        "conn.execute('''\n",
        "CREATE TABLE BOOK_AUTHORS (\n",
        "    Book_id INT,\n",
        "    Author_Name VARCHAR(255),\n",
        "    FOREIGN KEY (Book_id) REFERENCES BOOK(Book_id)\n",
        ");'''\n",
        "\n",
        ")\n",
        "conn.commit()\n",
        "print('authors');"
      ],
      "metadata": {
        "colab": {
          "base_uri": "https://localhost:8080/"
        },
        "id": "4XlQ8l33yn0B",
        "outputId": "4f992d58-0d3f-4175-86a0-fc9270778db3"
      },
      "execution_count": 4,
      "outputs": [
        {
          "output_type": "stream",
          "name": "stdout",
          "text": [
            "authors\n"
          ]
        }
      ]
    },
    {
      "cell_type": "code",
      "source": [
        "conn.execute('''\n",
        "CREATE TABLE LIBRARY_BRANCH (\n",
        "    Branch_id INT PRIMARY KEY,\n",
        "    Branch_Name VARCHAR(255),\n",
        "    Address VARCHAR(255)\n",
        ");'''\n",
        "\n",
        ")\n",
        "conn.commit()\n",
        "print('library branch');"
      ],
      "metadata": {
        "colab": {
          "base_uri": "https://localhost:8080/"
        },
        "id": "g6riSCN4yzU4",
        "outputId": "e97e917d-5978-4aa7-d5e7-5454387f1039"
      },
      "execution_count": 5,
      "outputs": [
        {
          "output_type": "stream",
          "name": "stdout",
          "text": [
            "library branch\n"
          ]
        }
      ]
    },
    {
      "cell_type": "code",
      "source": [
        "conn.execute('''\n",
        "CREATE TABLE BOOK_COPIES (\n",
        "    Book_id INT,\n",
        "    Branch_id INT,\n",
        "    \"No_of_Copies\" INT DEFAULT 0,\n",
        "    FOREIGN KEY (Book_id) REFERENCES BOOK(Book_id),\n",
        "    FOREIGN KEY (Branch_id) REFERENCES LIBRARY_BRANCH(Branch_id)\n",
        ");'''\n",
        "\n",
        ")\n",
        "conn.commit()\n",
        "print('book copies');\n"
      ],
      "metadata": {
        "colab": {
          "base_uri": "https://localhost:8080/"
        },
        "id": "LO2Kak4Hy56-",
        "outputId": "d15c46c0-6f2d-41c3-f434-387f64f43853"
      },
      "execution_count": 9,
      "outputs": [
        {
          "output_type": "stream",
          "name": "stdout",
          "text": [
            "book copies\n"
          ]
        }
      ]
    },
    {
      "cell_type": "code",
      "source": [
        "conn.execute('''\n",
        "CREATE TABLE BOOK_LENDING (\n",
        "    Book_id INT,\n",
        "    Branch_id INT,\n",
        "    Card_No INT,\n",
        "    Date_Out DATE,\n",
        "    Due_Date DATE,\n",
        "    FOREIGN KEY (Book_id) REFERENCES BOOK(Book_id),\n",
        "    FOREIGN KEY (Branch_id) REFERENCES LIBRARY_BRANCH(Branch_id)\n",
        ");'''\n",
        "\n",
        ")\n",
        "conn.commit()\n",
        "print('book lending');"
      ],
      "metadata": {
        "colab": {
          "base_uri": "https://localhost:8080/"
        },
        "id": "6D65on7SzZhN",
        "outputId": "a7dbf63a-7666-4372-b3f2-932a663e92d4"
      },
      "execution_count": 8,
      "outputs": [
        {
          "output_type": "stream",
          "name": "stdout",
          "text": [
            "book lending\n"
          ]
        }
      ]
    },
    {
      "cell_type": "code",
      "source": [
        "conn.execute(\"INSERT INTO PUBLISHER VALUES ('Penguin','New York','111-222-333');\")\n",
        "conn.execute(\"INSERT INTO PUBLISHER VALUES ('HarperCollins','London','222-333-444');\")\n",
        "conn.execute(\"INSERT INTO PUBLISHER VALUES ('McGraw-Hill','Chicago','333-444-555');\")\n",
        "conn.execute(\"INSERT INTO PUBLISHER VALUES ('OReilly','San Francisco','444-555-666');\")\n",
        "conn.execute(\"INSERT INTO PUBLISHER VALUES ('Oxford Press','Oxford','555-666-777');\")"
      ],
      "metadata": {
        "colab": {
          "base_uri": "https://localhost:8080/"
        },
        "id": "K3jCiaf41Bmg",
        "outputId": "a65f2c20-0b26-46d9-943f-ee9942909569"
      },
      "execution_count": 10,
      "outputs": [
        {
          "output_type": "execute_result",
          "data": {
            "text/plain": [
              "<sqlite3.Cursor at 0x783f159f1040>"
            ]
          },
          "metadata": {},
          "execution_count": 10
        }
      ]
    },
    {
      "cell_type": "code",
      "source": [
        "conn.execute(\"INSERT INTO BOOK VALUES (101,'The Great Gatsby','Penguin',2015);\")\n",
        "conn.execute(\"INSERT INTO BOOK VALUES (102,'To Kill a Mockingbird','HarperCollins',2018);\")\n",
        "conn.execute(\"INSERT INTO BOOK VALUES (103,'Introduction to Algorithms','McGraw-Hill',2020);\")\n",
        "conn.execute(\"INSERT INTO BOOK VALUES (104,'Learning Python','OReilly',2021);\")\n",
        "conn.execute(\"INSERT INTO BOOK VALUES (105,'Machine Learning Basics','Oxford Press',2022);\")\n",
        "conn.execute(\"INSERT INTO BOOK VALUES (106,'Data Science for All','OReilly',2023);\")\n",
        "conn.execute(\"INSERT INTO BOOK VALUES (107,'Modern Operating Systems','McGraw-Hill',2019);\")\n",
        "conn.execute(\"INSERT INTO BOOK VALUES (108,'Pride and Prejudice','Penguin',2016);\")\n",
        "conn.execute(\"INSERT INTO BOOK VALUES (109,'Deep Learning Illustrated','OReilly',2021);\")\n",
        "conn.execute(\"INSERT INTO BOOK VALUES (110,'Quantum Computing 101','Oxford Press',2023);\")"
      ],
      "metadata": {
        "colab": {
          "base_uri": "https://localhost:8080/"
        },
        "id": "gJymlqHf1qRv",
        "outputId": "20f88747-c3b7-43b4-b6b8-6acc67ec7934"
      },
      "execution_count": 11,
      "outputs": [
        {
          "output_type": "execute_result",
          "data": {
            "text/plain": [
              "<sqlite3.Cursor at 0x783f159802c0>"
            ]
          },
          "metadata": {},
          "execution_count": 11
        }
      ]
    },
    {
      "cell_type": "code",
      "source": [
        "conn.execute(\"INSERT INTO BOOK_AUTHORS VALUES (101,'F. Scott Fitzgerald');\")\n",
        "conn.execute(\"INSERT INTO BOOK_AUTHORS VALUES (102,'Harper Lee');\")\n",
        "conn.execute(\"INSERT INTO BOOK_AUTHORS VALUES (103,'Thomas H. Cormen');\")\n",
        "conn.execute(\"INSERT INTO BOOK_AUTHORS VALUES (104,'Mark Lutz');\")\n",
        "conn.execute(\"INSERT INTO BOOK_AUTHORS VALUES (105,'Andrew Ng');\")\n",
        "conn.execute(\"INSERT INTO BOOK_AUTHORS VALUES (106,'Jake VanderPlas');\")\n",
        "conn.execute(\"INSERT INTO BOOK_AUTHORS VALUES (107,'Andrew S. Tanenbaum');\")\n",
        "conn.execute(\"INSERT INTO BOOK_AUTHORS VALUES (108,'Jane Austen');\")\n",
        "conn.execute(\"INSERT INTO BOOK_AUTHORS VALUES (109,'Jon Krohn');\")\n",
        "conn.execute(\"INSERT INTO BOOK_AUTHORS VALUES (110,'Michael Nielsen');\")"
      ],
      "metadata": {
        "colab": {
          "base_uri": "https://localhost:8080/"
        },
        "id": "N8LnGMZA23W6",
        "outputId": "a5bd25aa-5401-4527-ef6f-07abf70607cd"
      },
      "execution_count": 13,
      "outputs": [
        {
          "output_type": "execute_result",
          "data": {
            "text/plain": [
              "<sqlite3.Cursor at 0x783f159777c0>"
            ]
          },
          "metadata": {},
          "execution_count": 13
        }
      ]
    },
    {
      "cell_type": "code",
      "source": [
        "conn.execute(\"INSERT INTO LIBRARY_BRANCH VALUES (201,'Central Library','Main Street, NY');\")\n",
        "conn.execute(\"INSERT INTO LIBRARY_BRANCH VALUES (202,'Downtown Branch','Broadway, NY');\")\n",
        "conn.execute(\"INSERT INTO LIBRARY_BRANCH VALUES (203,'West End Branch','West Avenue, SF');\")\n",
        "conn.execute(\"INSERT INTO LIBRARY_BRANCH VALUES (204,'East Side Branch','East Street, London');\")"
      ],
      "metadata": {
        "colab": {
          "base_uri": "https://localhost:8080/"
        },
        "id": "LAEj4oel36Gf",
        "outputId": "d4ddeacb-5175-43b7-a1a8-afccb5ead276"
      },
      "execution_count": 14,
      "outputs": [
        {
          "output_type": "execute_result",
          "data": {
            "text/plain": [
              "<sqlite3.Cursor at 0x783f146ea9c0>"
            ]
          },
          "metadata": {},
          "execution_count": 14
        }
      ]
    },
    {
      "cell_type": "code",
      "source": [
        "conn.execute(\"INSERT INTO BOOK_COPIES VALUES (101,201,5);\")\n",
        "conn.execute(\"INSERT INTO BOOK_COPIES VALUES (102,201,3);\")\n",
        "conn.execute(\"INSERT INTO BOOK_COPIES VALUES (103,202,6);\")\n",
        "conn.execute(\"INSERT INTO BOOK_COPIES VALUES (104,202,4);\")\n",
        "conn.execute(\"INSERT INTO BOOK_COPIES VALUES (105,203,5);\")\n",
        "conn.execute(\"INSERT INTO BOOK_COPIES VALUES (106,203,2);\")\n",
        "conn.execute(\"INSERT INTO BOOK_COPIES VALUES (107,204,3);\")\n",
        "conn.execute(\"INSERT INTO BOOK_COPIES VALUES (108,204,4);\")\n",
        "conn.execute(\"INSERT INTO BOOK_COPIES VALUES (109,201,5);\")\n",
        "conn.execute(\"INSERT INTO BOOK_COPIES VALUES (110,202,3);\")"
      ],
      "metadata": {
        "colab": {
          "base_uri": "https://localhost:8080/"
        },
        "id": "WS4WOgAx4pRb",
        "outputId": "91f7041e-74b4-4a57-9a11-f291f1d03ae4"
      },
      "execution_count": 16,
      "outputs": [
        {
          "output_type": "execute_result",
          "data": {
            "text/plain": [
              "<sqlite3.Cursor at 0x783f159f18c0>"
            ]
          },
          "metadata": {},
          "execution_count": 16
        }
      ]
    },
    {
      "cell_type": "code",
      "source": [
        "conn.execute(\"INSERT INTO BOOK_LENDING VALUES (101,201,3001,'2024-05-12','2024-06-12');\")\n",
        "conn.execute(\"INSERT INTO BOOK_LENDING VALUES (102,201,3002,'2024-06-01','2024-07-01');\")\n",
        "conn.execute(\"INSERT INTO BOOK_LENDING VALUES (103,202,3003,'2024-06-15','2024-07-15');\")\n",
        "conn.execute(\"INSERT INTO BOOK_LENDING VALUES (104,202,3004,'2024-07-01','2024-08-01');\")\n",
        "conn.execute(\"INSERT INTO BOOK_LENDING VALUES (105,203,3005,'2024-07-05','2024-08-05');\")\n",
        "conn.execute(\"INSERT INTO BOOK_LENDING VALUES (106,203,3006,'2024-07-10','2024-08-10');\")\n",
        "conn.execute(\"INSERT INTO BOOK_LENDING VALUES (107,204,3007,'2024-07-15','2024-08-15');\")\n",
        "conn.execute(\"INSERT INTO BOOK_LENDING VALUES (108,204,3008,'2024-07-20','2024-08-20');\")\n",
        "conn.execute(\"INSERT INTO BOOK_LENDING VALUES (109,201,3009,'2024-07-22','2024-08-22');\")\n",
        "conn.execute(\"INSERT INTO BOOK_LENDING VALUES (110,202,3010,'2024-07-25','2024-08-25');\")\n",
        "conn.commit()"
      ],
      "metadata": {
        "id": "oYao3R2k5ZRt"
      },
      "execution_count": 17,
      "outputs": []
    },
    {
      "cell_type": "code",
      "source": [
        "conn=sqlite3.connect('test.db')\n",
        "cursor=conn.execute(''' SELECT * FROM PUBLISHER ''' )\n",
        "for row in cursor:\n",
        "  print(row)"
      ],
      "metadata": {
        "colab": {
          "base_uri": "https://localhost:8080/"
        },
        "id": "12tcktIs6maQ",
        "outputId": "3a9a50bf-261f-4c47-91cd-4fb6da0949f2"
      },
      "execution_count": 18,
      "outputs": [
        {
          "output_type": "stream",
          "name": "stdout",
          "text": [
            "('Penguin', 'New York', '111-222-333')\n",
            "('HarperCollins', 'London', '222-333-444')\n",
            "('McGraw-Hill', 'Chicago', '333-444-555')\n",
            "('OReilly', 'San Francisco', '444-555-666')\n",
            "('Oxford Press', 'Oxford', '555-666-777')\n"
          ]
        }
      ]
    },
    {
      "cell_type": "code",
      "source": [
        "conn=sqlite3.connect('test.db')\n",
        "cursor=conn.execute(''' SELECT * FROM BOOK ''' )\n",
        "for row in cursor:\n",
        "  print(row)"
      ],
      "metadata": {
        "colab": {
          "base_uri": "https://localhost:8080/"
        },
        "id": "5FFn_fFE6yOg",
        "outputId": "fd7c7afe-9e59-452c-99ca-bd0636121090"
      },
      "execution_count": 19,
      "outputs": [
        {
          "output_type": "stream",
          "name": "stdout",
          "text": [
            "(101, 'The Great Gatsby', 'Penguin', 2015)\n",
            "(102, 'To Kill a Mockingbird', 'HarperCollins', 2018)\n",
            "(103, 'Introduction to Algorithms', 'McGraw-Hill', 2020)\n",
            "(104, 'Learning Python', 'OReilly', 2021)\n",
            "(105, 'Machine Learning Basics', 'Oxford Press', 2022)\n",
            "(106, 'Data Science for All', 'OReilly', 2023)\n",
            "(107, 'Modern Operating Systems', 'McGraw-Hill', 2019)\n",
            "(108, 'Pride and Prejudice', 'Penguin', 2016)\n",
            "(109, 'Deep Learning Illustrated', 'OReilly', 2021)\n",
            "(110, 'Quantum Computing 101', 'Oxford Press', 2023)\n"
          ]
        }
      ]
    },
    {
      "cell_type": "code",
      "source": [
        "conn=sqlite3.connect('test.db')\n",
        "cursor=conn.execute(''' SELECT * FROM BOOK_AUTHORS ''' )\n",
        "for row in cursor:\n",
        "  print(row)"
      ],
      "metadata": {
        "colab": {
          "base_uri": "https://localhost:8080/"
        },
        "id": "61gWl1SS603y",
        "outputId": "9bda9e9e-d682-4df7-df2c-71070bc182c0"
      },
      "execution_count": 20,
      "outputs": [
        {
          "output_type": "stream",
          "name": "stdout",
          "text": [
            "(101, 'F. Scott Fitzgerald')\n",
            "(102, 'Harper Lee')\n",
            "(103, 'Thomas H. Cormen')\n",
            "(104, 'Mark Lutz')\n",
            "(105, 'Andrew Ng')\n",
            "(106, 'Jake VanderPlas')\n",
            "(107, 'Andrew S. Tanenbaum')\n",
            "(108, 'Jane Austen')\n",
            "(109, 'Jon Krohn')\n",
            "(110, 'Michael Nielsen')\n"
          ]
        }
      ]
    },
    {
      "cell_type": "code",
      "source": [
        "conn=sqlite3.connect('test.db')\n",
        "cursor=conn.execute(''' SELECT *FROM LIBRARY_BRANCH ''' )\n",
        "for row in cursor:\n",
        "  print(row)"
      ],
      "metadata": {
        "colab": {
          "base_uri": "https://localhost:8080/"
        },
        "id": "-8IyA94Z62By",
        "outputId": "44292958-2a00-44d1-b92d-37965f245f6b"
      },
      "execution_count": 22,
      "outputs": [
        {
          "output_type": "stream",
          "name": "stdout",
          "text": [
            "(201, 'Central Library', 'Main Street, NY')\n",
            "(202, 'Downtown Branch', 'Broadway, NY')\n",
            "(203, 'West End Branch', 'West Avenue, SF')\n",
            "(204, 'East Side Branch', 'East Street, London')\n"
          ]
        }
      ]
    },
    {
      "cell_type": "code",
      "source": [
        "conn=sqlite3.connect('test.db')\n",
        "cursor=conn.execute(''' SELECT * FROM BOOK_COPIES ''' )\n",
        "for row in cursor:\n",
        "  print(row)"
      ],
      "metadata": {
        "colab": {
          "base_uri": "https://localhost:8080/"
        },
        "id": "0KS2VYdC63GN",
        "outputId": "10f4cd0c-a05a-40ff-8724-0c26aed565f4"
      },
      "execution_count": 23,
      "outputs": [
        {
          "output_type": "stream",
          "name": "stdout",
          "text": [
            "(101, 201, 5)\n",
            "(102, 201, 3)\n",
            "(103, 202, 6)\n",
            "(104, 202, 4)\n",
            "(105, 203, 5)\n",
            "(106, 203, 2)\n",
            "(107, 204, 3)\n",
            "(108, 204, 4)\n",
            "(109, 201, 5)\n",
            "(110, 202, 3)\n"
          ]
        }
      ]
    },
    {
      "cell_type": "code",
      "source": [
        "conn=sqlite3.connect('test.db')\n",
        "cursor=conn.execute(''' SELECT * FROM BOOK_LENDING ''' )\n",
        "for row in cursor:\n",
        "  print(row)"
      ],
      "metadata": {
        "colab": {
          "base_uri": "https://localhost:8080/"
        },
        "id": "APUi81o164Ak",
        "outputId": "4e8b21c4-aa14-4efd-8e6c-7c33c3290401"
      },
      "execution_count": 24,
      "outputs": [
        {
          "output_type": "stream",
          "name": "stdout",
          "text": [
            "(101, 201, 3001, '2024-05-12', '2024-06-12')\n",
            "(102, 201, 3002, '2024-06-01', '2024-07-01')\n",
            "(103, 202, 3003, '2024-06-15', '2024-07-15')\n",
            "(104, 202, 3004, '2024-07-01', '2024-08-01')\n",
            "(105, 203, 3005, '2024-07-05', '2024-08-05')\n",
            "(106, 203, 3006, '2024-07-10', '2024-08-10')\n",
            "(107, 204, 3007, '2024-07-15', '2024-08-15')\n",
            "(108, 204, 3008, '2024-07-20', '2024-08-20')\n",
            "(109, 201, 3009, '2024-07-22', '2024-08-22')\n",
            "(110, 202, 3010, '2024-07-25', '2024-08-25')\n"
          ]
        }
      ]
    },
    {
      "cell_type": "code",
      "source": [
        "# Most Borrowed Books (Ranking)\n",
        "cursor=conn.execute('''\n",
        "SELECT\n",
        "    b.Title,\n",
        "    COUNT(bl.Book_id) AS borrow_count,\n",
        "    RANK() OVER (ORDER BY COUNT(bl.Book_id) DESC) AS popularity_rank\n",
        "FROM BOOK b\n",
        "JOIN BOOK_LENDING bl ON b.Book_id = bl.Book_id\n",
        "GROUP BY b.Title\n",
        "ORDER BY popularity_rank;''' )\n",
        "for row in cursor:\n",
        "  print(row)"
      ],
      "metadata": {
        "colab": {
          "base_uri": "https://localhost:8080/"
        },
        "id": "mgNv4PH07g38",
        "outputId": "61725289-6daf-4b1e-e2ec-193ade038843"
      },
      "execution_count": 25,
      "outputs": [
        {
          "output_type": "stream",
          "name": "stdout",
          "text": [
            "('To Kill a Mockingbird', 1, 1)\n",
            "('The Great Gatsby', 1, 1)\n",
            "('Quantum Computing 101', 1, 1)\n",
            "('Pride and Prejudice', 1, 1)\n",
            "('Modern Operating Systems', 1, 1)\n",
            "('Machine Learning Basics', 1, 1)\n",
            "('Learning Python', 1, 1)\n",
            "('Introduction to Algorithms', 1, 1)\n",
            "('Deep Learning Illustrated', 1, 1)\n",
            "('Data Science for All', 1, 1)\n"
          ]
        }
      ]
    },
    {
      "cell_type": "code",
      "source": [
        "# Monthly Borrowing Trend (% Growth)\n",
        "cursor=conn.execute('''\n",
        "WITH MonthlyBorrows AS (\n",
        "    SELECT\n",
        "        strftime('%Y-%m-01', bl.Date_Out) AS month_start,\n",
        "        COUNT(*) AS borrow_count\n",
        "    FROM BOOK_LENDING bl\n",
        "    GROUP BY strftime('%Y-%m-01', bl.Date_Out)\n",
        ")\n",
        "SELECT\n",
        "    month_start,\n",
        "    borrow_count,\n",
        "    LAG(borrow_count) OVER (ORDER BY month_start) AS prev_month,\n",
        "    (borrow_count - LAG(borrow_count) OVER (ORDER BY month_start)) AS change,\n",
        "    ROUND(\n",
        "      100.0 * (borrow_count - LAG(borrow_count) OVER (ORDER BY month_start))\n",
        "      / NULLIF(LAG(borrow_count) OVER (ORDER BY month_start),0),2\n",
        "    ) AS pct_change\n",
        "FROM MonthlyBorrows\n",
        "ORDER BY month_start;''' )\n",
        "for row in cursor:\n",
        "  print(row)"
      ],
      "metadata": {
        "colab": {
          "base_uri": "https://localhost:8080/"
        },
        "id": "jj6Y95rc742N",
        "outputId": "f628aae6-e1cc-4021-a510-b2b988eccf93"
      },
      "execution_count": 27,
      "outputs": [
        {
          "output_type": "stream",
          "name": "stdout",
          "text": [
            "('2024-05-01', 1, None, None, None)\n",
            "('2024-06-01', 2, 1, 1, 100.0)\n",
            "('2024-07-01', 7, 2, 5, 250.0)\n"
          ]
        }
      ]
    },
    {
      "cell_type": "code",
      "source": [
        "# top Borrowers\n",
        "cursor=conn.execute('''\n",
        "SELECT\n",
        "    bl.Card_No,\n",
        "    COUNT(*) AS total_borrows,\n",
        "    RANK() OVER (ORDER BY COUNT(*) DESC) AS borrower_rank\n",
        "FROM BOOK_LENDING bl\n",
        "GROUP BY bl.Card_No\n",
        "ORDER BY borrower_rank\n",
        "LIMIT 5;''' )\n",
        "for row in cursor:\n",
        "  print(row)"
      ],
      "metadata": {
        "colab": {
          "base_uri": "https://localhost:8080/"
        },
        "id": "ul7h0a6y8stA",
        "outputId": "1982d72a-c8ea-4648-8f89-4eb51802628f"
      },
      "execution_count": 28,
      "outputs": [
        {
          "output_type": "stream",
          "name": "stdout",
          "text": [
            "(3010, 1, 1)\n",
            "(3009, 1, 1)\n",
            "(3008, 1, 1)\n",
            "(3007, 1, 1)\n",
            "(3006, 1, 1)\n"
          ]
        }
      ]
    },
    {
      "cell_type": "code",
      "source": [
        "# Top 3 Books Per Branch\n",
        "cursor=conn.execute('''\n",
        "WITH BranchPopularity AS (\n",
        "    SELECT\n",
        "        lb.Branch_Name,\n",
        "        b.Title,\n",
        "        COUNT(*) AS borrow_count,\n",
        "        RANK() OVER (PARTITION BY lb.Branch_Name ORDER BY COUNT(*) DESC) AS rank_in_branch\n",
        "    FROM BOOK_LENDING bl\n",
        "    JOIN BOOK b ON b.Book_id = bl.Book_id\n",
        "    JOIN LIBRARY_BRANCH lb ON lb.Branch_id = bl.Branch_id\n",
        "    GROUP BY lb.Branch_Name, b.Title\n",
        ")\n",
        "SELECT *\n",
        "FROM BranchPopularity\n",
        "WHERE rank_in_branch <= 3\n",
        "ORDER BY Branch_Name, rank_in_branch;''' )\n",
        "for row in cursor:\n",
        "  print(row)"
      ],
      "metadata": {
        "colab": {
          "base_uri": "https://localhost:8080/"
        },
        "id": "cGqijq4R88yf",
        "outputId": "a3d4eb81-4212-483a-8caa-84d00003c761"
      },
      "execution_count": 29,
      "outputs": [
        {
          "output_type": "stream",
          "name": "stdout",
          "text": [
            "('Central Library', 'To Kill a Mockingbird', 1, 1)\n",
            "('Central Library', 'The Great Gatsby', 1, 1)\n",
            "('Central Library', 'Deep Learning Illustrated', 1, 1)\n",
            "('Downtown Branch', 'Quantum Computing 101', 1, 1)\n",
            "('Downtown Branch', 'Learning Python', 1, 1)\n",
            "('Downtown Branch', 'Introduction to Algorithms', 1, 1)\n",
            "('East Side Branch', 'Pride and Prejudice', 1, 1)\n",
            "('East Side Branch', 'Modern Operating Systems', 1, 1)\n",
            "('West End Branch', 'Machine Learning Basics', 1, 1)\n",
            "('West End Branch', 'Data Science for All', 1, 1)\n"
          ]
        }
      ]
    },
    {
      "cell_type": "code",
      "source": [
        "#Publisher Perfomance\n",
        "cursor=conn.execute('''\n",
        "SELECT\n",
        "    p.Name AS publisher_name,\n",
        "    COUNT(bl.Book_id) AS total_borrows,\n",
        "    RANK() OVER (ORDER BY COUNT(bl.Book_id) DESC) AS publisher_rank\n",
        "FROM PUBLISHER p\n",
        "JOIN BOOK b ON p.Name = b.Publisher_Name\n",
        "JOIN BOOK_LENDING bl ON b.Book_id = bl.Book_id\n",
        "GROUP BY p.Name\n",
        "ORDER BY publisher_rank;''' )\n",
        "for row in cursor:\n",
        "  print(row)"
      ],
      "metadata": {
        "colab": {
          "base_uri": "https://localhost:8080/"
        },
        "id": "RVvhzm12892p",
        "outputId": "b7211b3b-f373-4077-9844-d103350744d2"
      },
      "execution_count": 30,
      "outputs": [
        {
          "output_type": "stream",
          "name": "stdout",
          "text": [
            "('OReilly', 3, 1)\n",
            "('Penguin', 2, 2)\n",
            "('Oxford Press', 2, 2)\n",
            "('McGraw-Hill', 2, 2)\n",
            "('HarperCollins', 1, 5)\n"
          ]
        }
      ]
    }
  ]
}